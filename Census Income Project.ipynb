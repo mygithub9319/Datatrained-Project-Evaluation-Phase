{
 "cells": [
  {
   "cell_type": "markdown",
   "metadata": {},
   "source": [
    "### Problem Statement:"
   ]
  },
  {
   "cell_type": "markdown",
   "metadata": {},
   "source": [
    "This data was extracted from the 1994 Census bureau database by Ronny Kohavi and Barry Becker (Data Mining and Visualization, Silicon Graphics). A set of reasonably clean records was extracted using the following conditions: ((AAGE>16) && (AGI>100) && (AFNLWGT>1) && (HRSWK>0)). The prediction task is to determine whether a person makes over $50K a year."
   ]
  },
  {
   "cell_type": "markdown",
   "metadata": {},
   "source": [
    "#### Description of fnlwgt (final weight)"
   ]
  },
  {
   "cell_type": "markdown",
   "metadata": {},
   "source": [
    "The weights on the Current Population Survey (CPS) files are controlled to independent estimates of the civilian non-institutional population of the US. These are prepared monthly for us by Population Division here at the Census Bureau. We use 3 sets of controls. These are:\n",
    "\n",
    "1. A single cell estimate of the population 16+ for each state.\n",
    "\n",
    "2. Controls for Hispanic Origin by age and sex.\n",
    "\n",
    "3. Controls by Race, age and sex."
   ]
  },
  {
   "cell_type": "markdown",
   "metadata": {},
   "source": [
    "We use all three sets of controls in our weighting program and \"rake\" through them 6 times so that by the end we come back to all the controls we used. The term estimate refers to population totals derived from CPS by creating \"weighted tallies\" of any specified socio-economic characteristics of the population. People with similar demographic characteristics should have similar weights. There is one important caveat to remember about this statement. That is that since the CPS sample is actually a collection of 51 state samples, each with its own probability of selection, the statement only applies within state."
   ]
  },
  {
   "cell_type": "markdown",
   "metadata": {},
   "source": [
    "#### Prediction:\n",
    "The prediction task is to determine whether a person makes over $50K a year."
   ]
  },
  {
   "cell_type": "code",
   "execution_count": 124,
   "metadata": {
    "scrolled": true
   },
   "outputs": [],
   "source": [
    "import pandas as pd # for handling dataset\n",
    "import numpy as np  # for mathematical computation\n",
    "\n",
    "from sklearn.preprocessing import StandardScaler\n",
    "from sklearn.model_selection import train_test_split,GridSearchCV,cross_val_score\n",
    "from sklearn.metrics import accuracy_score, confusion_matrix, classification_report, plot_roc_curve, roc_auc_score\n",
    "from sklearn.linear_model import LogisticRegression\n",
    "from sklearn.ensemble import RandomForestClassifier\n",
    "from sklearn.neighbors import KNeighborsClassifier\n",
    "from sklearn.tree import DecisionTreeClassifier\n",
    "from sklearn.ensemble import GradientBoostingClassifier\n",
    "from sklearn.svm import SVC\n",
    "from sklearn.linear_model import SGDClassifier\n",
    "\n",
    "from sklearn.preprocessing import LabelEncoder\n",
    "from sklearn.decomposition import PCA\n",
    "from scipy.stats import skew\n",
    "\n",
    "# for visualization\n",
    "import matplotlib.pyplot as plt\n",
    "\n",
    "import seaborn as sns\n",
    "import pickle\n",
    "\n",
    "import warnings\n",
    "warnings.filterwarnings('ignore')"
   ]
  },
  {
   "cell_type": "code",
   "execution_count": 128,
   "metadata": {
    "scrolled": true
   },
   "outputs": [
    {
     "data": {
      "text/html": [
       "<div>\n",
       "<style scoped>\n",
       "    .dataframe tbody tr th:only-of-type {\n",
       "        vertical-align: middle;\n",
       "    }\n",
       "\n",
       "    .dataframe tbody tr th {\n",
       "        vertical-align: top;\n",
       "    }\n",
       "\n",
       "    .dataframe thead th {\n",
       "        text-align: right;\n",
       "    }\n",
       "</style>\n",
       "<table border=\"1\" class=\"dataframe\">\n",
       "  <thead>\n",
       "    <tr style=\"text-align: right;\">\n",
       "      <th></th>\n",
       "      <th>Age</th>\n",
       "      <th>Workclass</th>\n",
       "      <th>Fnlwgt</th>\n",
       "      <th>Education</th>\n",
       "      <th>Education_num</th>\n",
       "      <th>Marital_status</th>\n",
       "      <th>Occupation</th>\n",
       "      <th>Relationship</th>\n",
       "      <th>Race</th>\n",
       "      <th>Sex</th>\n",
       "      <th>Capital_gain</th>\n",
       "      <th>Capital_loss</th>\n",
       "      <th>Hours_per_week</th>\n",
       "      <th>Native_country</th>\n",
       "      <th>Income</th>\n",
       "    </tr>\n",
       "  </thead>\n",
       "  <tbody>\n",
       "    <tr>\n",
       "      <th>0</th>\n",
       "      <td>50</td>\n",
       "      <td>Self-emp-not-inc</td>\n",
       "      <td>83311</td>\n",
       "      <td>Bachelors</td>\n",
       "      <td>13</td>\n",
       "      <td>Married-civ-spouse</td>\n",
       "      <td>Exec-managerial</td>\n",
       "      <td>Husband</td>\n",
       "      <td>White</td>\n",
       "      <td>Male</td>\n",
       "      <td>0</td>\n",
       "      <td>0</td>\n",
       "      <td>13</td>\n",
       "      <td>United-States</td>\n",
       "      <td>&lt;=50K</td>\n",
       "    </tr>\n",
       "    <tr>\n",
       "      <th>1</th>\n",
       "      <td>38</td>\n",
       "      <td>Private</td>\n",
       "      <td>215646</td>\n",
       "      <td>HS-grad</td>\n",
       "      <td>9</td>\n",
       "      <td>Divorced</td>\n",
       "      <td>Handlers-cleaners</td>\n",
       "      <td>Not-in-family</td>\n",
       "      <td>White</td>\n",
       "      <td>Male</td>\n",
       "      <td>0</td>\n",
       "      <td>0</td>\n",
       "      <td>40</td>\n",
       "      <td>United-States</td>\n",
       "      <td>&lt;=50K</td>\n",
       "    </tr>\n",
       "    <tr>\n",
       "      <th>2</th>\n",
       "      <td>53</td>\n",
       "      <td>Private</td>\n",
       "      <td>234721</td>\n",
       "      <td>11th</td>\n",
       "      <td>7</td>\n",
       "      <td>Married-civ-spouse</td>\n",
       "      <td>Handlers-cleaners</td>\n",
       "      <td>Husband</td>\n",
       "      <td>Black</td>\n",
       "      <td>Male</td>\n",
       "      <td>0</td>\n",
       "      <td>0</td>\n",
       "      <td>40</td>\n",
       "      <td>United-States</td>\n",
       "      <td>&lt;=50K</td>\n",
       "    </tr>\n",
       "    <tr>\n",
       "      <th>3</th>\n",
       "      <td>28</td>\n",
       "      <td>Private</td>\n",
       "      <td>338409</td>\n",
       "      <td>Bachelors</td>\n",
       "      <td>13</td>\n",
       "      <td>Married-civ-spouse</td>\n",
       "      <td>Prof-specialty</td>\n",
       "      <td>Wife</td>\n",
       "      <td>Black</td>\n",
       "      <td>Female</td>\n",
       "      <td>0</td>\n",
       "      <td>0</td>\n",
       "      <td>40</td>\n",
       "      <td>Cuba</td>\n",
       "      <td>&lt;=50K</td>\n",
       "    </tr>\n",
       "    <tr>\n",
       "      <th>4</th>\n",
       "      <td>37</td>\n",
       "      <td>Private</td>\n",
       "      <td>284582</td>\n",
       "      <td>Masters</td>\n",
       "      <td>14</td>\n",
       "      <td>Married-civ-spouse</td>\n",
       "      <td>Exec-managerial</td>\n",
       "      <td>Wife</td>\n",
       "      <td>White</td>\n",
       "      <td>Female</td>\n",
       "      <td>0</td>\n",
       "      <td>0</td>\n",
       "      <td>40</td>\n",
       "      <td>United-States</td>\n",
       "      <td>&lt;=50K</td>\n",
       "    </tr>\n",
       "  </tbody>\n",
       "</table>\n",
       "</div>"
      ],
      "text/plain": [
       "   Age          Workclass  Fnlwgt   Education  Education_num  \\\n",
       "0   50   Self-emp-not-inc   83311   Bachelors             13   \n",
       "1   38            Private  215646     HS-grad              9   \n",
       "2   53            Private  234721        11th              7   \n",
       "3   28            Private  338409   Bachelors             13   \n",
       "4   37            Private  284582     Masters             14   \n",
       "\n",
       "        Marital_status          Occupation    Relationship    Race      Sex  \\\n",
       "0   Married-civ-spouse     Exec-managerial         Husband   White     Male   \n",
       "1             Divorced   Handlers-cleaners   Not-in-family   White     Male   \n",
       "2   Married-civ-spouse   Handlers-cleaners         Husband   Black     Male   \n",
       "3   Married-civ-spouse      Prof-specialty            Wife   Black   Female   \n",
       "4   Married-civ-spouse     Exec-managerial            Wife   White   Female   \n",
       "\n",
       "   Capital_gain  Capital_loss  Hours_per_week  Native_country  Income  \n",
       "0             0             0              13   United-States   <=50K  \n",
       "1             0             0              40   United-States   <=50K  \n",
       "2             0             0              40   United-States   <=50K  \n",
       "3             0             0              40            Cuba   <=50K  \n",
       "4             0             0              40   United-States   <=50K  "
      ]
     },
     "execution_count": 128,
     "metadata": {},
     "output_type": "execute_result"
    }
   ],
   "source": [
    "# Loading dataset\n",
    "df = pd.read_csv(r\"C:\\Users\\admin\\Desktop\\Python basis\\Eve\\census_income.csv\")\n",
    "df.head()"
   ]
  },
  {
   "cell_type": "code",
   "execution_count": 129,
   "metadata": {
    "scrolled": true
   },
   "outputs": [
    {
     "name": "stdout",
     "output_type": "stream",
     "text": [
      "<class 'pandas.core.frame.DataFrame'>\n",
      "RangeIndex: 32560 entries, 0 to 32559\n",
      "Data columns (total 15 columns):\n",
      " #   Column          Non-Null Count  Dtype \n",
      "---  ------          --------------  ----- \n",
      " 0   Age             32560 non-null  int64 \n",
      " 1   Workclass       32560 non-null  object\n",
      " 2   Fnlwgt          32560 non-null  int64 \n",
      " 3   Education       32560 non-null  object\n",
      " 4   Education_num   32560 non-null  int64 \n",
      " 5   Marital_status  32560 non-null  object\n",
      " 6   Occupation      32560 non-null  object\n",
      " 7   Relationship    32560 non-null  object\n",
      " 8   Race            32560 non-null  object\n",
      " 9   Sex             32560 non-null  object\n",
      " 10  Capital_gain    32560 non-null  int64 \n",
      " 11  Capital_loss    32560 non-null  int64 \n",
      " 12  Hours_per_week  32560 non-null  int64 \n",
      " 13  Native_country  32560 non-null  object\n",
      " 14  Income          32560 non-null  object\n",
      "dtypes: int64(6), object(9)\n",
      "memory usage: 3.7+ MB\n"
     ]
    }
   ],
   "source": [
    "# Checking data type and null value\n",
    "df.info()"
   ]
  },
  {
   "cell_type": "code",
   "execution_count": 131,
   "metadata": {
    "scrolled": true
   },
   "outputs": [
    {
     "data": {
      "text/plain": [
       "(32560, 15)"
      ]
     },
     "execution_count": 131,
     "metadata": {},
     "output_type": "execute_result"
    }
   ],
   "source": [
    "# checkng shape\n",
    "df.shape"
   ]
  },
  {
   "cell_type": "markdown",
   "metadata": {},
   "source": [
    "There are 32560 rows and 15 columns"
   ]
  },
  {
   "cell_type": "code",
   "execution_count": 132,
   "metadata": {
    "scrolled": true
   },
   "outputs": [
    {
     "data": {
      "text/plain": [
       "Age               0\n",
       "Workclass         0\n",
       "Fnlwgt            0\n",
       "Education         0\n",
       "Education_num     0\n",
       "Marital_status    0\n",
       "Occupation        0\n",
       "Relationship      0\n",
       "Race              0\n",
       "Sex               0\n",
       "Capital_gain      0\n",
       "Capital_loss      0\n",
       "Hours_per_week    0\n",
       "Native_country    0\n",
       "Income            0\n",
       "dtype: int64"
      ]
     },
     "execution_count": 132,
     "metadata": {},
     "output_type": "execute_result"
    }
   ],
   "source": [
    "# checking missing value\n",
    "df.isnull().sum()"
   ]
  },
  {
   "cell_type": "markdown",
   "metadata": {},
   "source": [
    "There is no any missing value in our dataset"
   ]
  },
  {
   "cell_type": "code",
   "execution_count": 133,
   "metadata": {
    "scrolled": true
   },
   "outputs": [
    {
     "data": {
      "text/plain": [
       "['Workclass',\n",
       " 'Education',\n",
       " 'Marital_status',\n",
       " 'Occupation',\n",
       " 'Relationship',\n",
       " 'Race',\n",
       " 'Sex',\n",
       " 'Native_country',\n",
       " 'Income']"
      ]
     },
     "execution_count": 133,
     "metadata": {},
     "output_type": "execute_result"
    }
   ],
   "source": [
    "# to list categorical features in our dataset\n",
    "cat_features=[i for i in df.columns if df.dtypes[i]=='object']\n",
    "cat_features"
   ]
  },
  {
   "cell_type": "code",
   "execution_count": 134,
   "metadata": {
    "scrolled": true
   },
   "outputs": [
    {
     "data": {
      "text/plain": [
       "['Age',\n",
       " 'Fnlwgt',\n",
       " 'Education_num',\n",
       " 'Capital_gain',\n",
       " 'Capital_loss',\n",
       " 'Hours_per_week']"
      ]
     },
     "execution_count": 134,
     "metadata": {},
     "output_type": "execute_result"
    }
   ],
   "source": [
    "# to list continous features in our dataset\n",
    "con_features=[i for i in df.columns if df.dtypes[i]=='int64']\n",
    "con_features"
   ]
  },
  {
   "cell_type": "code",
   "execution_count": 135,
   "metadata": {
    "scrolled": true
   },
   "outputs": [
    {
     "data": {
      "text/plain": [
       "Age                  73\n",
       "Workclass             9\n",
       "Fnlwgt            21647\n",
       "Education            16\n",
       "Education_num        16\n",
       "Marital_status        7\n",
       "Occupation           15\n",
       "Relationship          6\n",
       "Race                  5\n",
       "Sex                   2\n",
       "Capital_gain        119\n",
       "Capital_loss         92\n",
       "Hours_per_week       94\n",
       "Native_country       42\n",
       "Income                2\n",
       "dtype: int64"
      ]
     },
     "execution_count": 135,
     "metadata": {},
     "output_type": "execute_result"
    }
   ],
   "source": [
    "# to count number of unique values in each columns \n",
    "df.nunique()"
   ]
  },
  {
   "cell_type": "code",
   "execution_count": 136,
   "metadata": {
    "scrolled": true
   },
   "outputs": [
    {
     "data": {
      "text/html": [
       "<div>\n",
       "<style scoped>\n",
       "    .dataframe tbody tr th:only-of-type {\n",
       "        vertical-align: middle;\n",
       "    }\n",
       "\n",
       "    .dataframe tbody tr th {\n",
       "        vertical-align: top;\n",
       "    }\n",
       "\n",
       "    .dataframe thead th {\n",
       "        text-align: right;\n",
       "    }\n",
       "</style>\n",
       "<table border=\"1\" class=\"dataframe\">\n",
       "  <thead>\n",
       "    <tr style=\"text-align: right;\">\n",
       "      <th></th>\n",
       "      <th>Age</th>\n",
       "      <th>Fnlwgt</th>\n",
       "      <th>Education_num</th>\n",
       "      <th>Capital_gain</th>\n",
       "      <th>Capital_loss</th>\n",
       "      <th>Hours_per_week</th>\n",
       "    </tr>\n",
       "  </thead>\n",
       "  <tbody>\n",
       "    <tr>\n",
       "      <th>count</th>\n",
       "      <td>32560.000000</td>\n",
       "      <td>3.256000e+04</td>\n",
       "      <td>32560.000000</td>\n",
       "      <td>32560.000000</td>\n",
       "      <td>32560.000000</td>\n",
       "      <td>32560.000000</td>\n",
       "    </tr>\n",
       "    <tr>\n",
       "      <th>mean</th>\n",
       "      <td>38.581634</td>\n",
       "      <td>1.897818e+05</td>\n",
       "      <td>10.080590</td>\n",
       "      <td>1077.615172</td>\n",
       "      <td>87.306511</td>\n",
       "      <td>40.437469</td>\n",
       "    </tr>\n",
       "    <tr>\n",
       "      <th>std</th>\n",
       "      <td>13.640642</td>\n",
       "      <td>1.055498e+05</td>\n",
       "      <td>2.572709</td>\n",
       "      <td>7385.402999</td>\n",
       "      <td>402.966116</td>\n",
       "      <td>12.347618</td>\n",
       "    </tr>\n",
       "    <tr>\n",
       "      <th>min</th>\n",
       "      <td>17.000000</td>\n",
       "      <td>1.228500e+04</td>\n",
       "      <td>1.000000</td>\n",
       "      <td>0.000000</td>\n",
       "      <td>0.000000</td>\n",
       "      <td>1.000000</td>\n",
       "    </tr>\n",
       "    <tr>\n",
       "      <th>25%</th>\n",
       "      <td>28.000000</td>\n",
       "      <td>1.178315e+05</td>\n",
       "      <td>9.000000</td>\n",
       "      <td>0.000000</td>\n",
       "      <td>0.000000</td>\n",
       "      <td>40.000000</td>\n",
       "    </tr>\n",
       "    <tr>\n",
       "      <th>50%</th>\n",
       "      <td>37.000000</td>\n",
       "      <td>1.783630e+05</td>\n",
       "      <td>10.000000</td>\n",
       "      <td>0.000000</td>\n",
       "      <td>0.000000</td>\n",
       "      <td>40.000000</td>\n",
       "    </tr>\n",
       "    <tr>\n",
       "      <th>75%</th>\n",
       "      <td>48.000000</td>\n",
       "      <td>2.370545e+05</td>\n",
       "      <td>12.000000</td>\n",
       "      <td>0.000000</td>\n",
       "      <td>0.000000</td>\n",
       "      <td>45.000000</td>\n",
       "    </tr>\n",
       "    <tr>\n",
       "      <th>max</th>\n",
       "      <td>90.000000</td>\n",
       "      <td>1.484705e+06</td>\n",
       "      <td>16.000000</td>\n",
       "      <td>99999.000000</td>\n",
       "      <td>4356.000000</td>\n",
       "      <td>99.000000</td>\n",
       "    </tr>\n",
       "  </tbody>\n",
       "</table>\n",
       "</div>"
      ],
      "text/plain": [
       "                Age        Fnlwgt  Education_num  Capital_gain  Capital_loss  \\\n",
       "count  32560.000000  3.256000e+04   32560.000000  32560.000000  32560.000000   \n",
       "mean      38.581634  1.897818e+05      10.080590   1077.615172     87.306511   \n",
       "std       13.640642  1.055498e+05       2.572709   7385.402999    402.966116   \n",
       "min       17.000000  1.228500e+04       1.000000      0.000000      0.000000   \n",
       "25%       28.000000  1.178315e+05       9.000000      0.000000      0.000000   \n",
       "50%       37.000000  1.783630e+05      10.000000      0.000000      0.000000   \n",
       "75%       48.000000  2.370545e+05      12.000000      0.000000      0.000000   \n",
       "max       90.000000  1.484705e+06      16.000000  99999.000000   4356.000000   \n",
       "\n",
       "       Hours_per_week  \n",
       "count    32560.000000  \n",
       "mean        40.437469  \n",
       "std         12.347618  \n",
       "min          1.000000  \n",
       "25%         40.000000  \n",
       "50%         40.000000  \n",
       "75%         45.000000  \n",
       "max         99.000000  "
      ]
     },
     "execution_count": 136,
     "metadata": {},
     "output_type": "execute_result"
    }
   ],
   "source": [
    "df.describe() # to get high understanding of dataset or to get overview/stats of the dataset"
   ]
  },
  {
   "cell_type": "markdown",
   "metadata": {},
   "source": [
    "#### Capital_gain and Capital_loss data is messed up as their standard deviation value is greater than mean value."
   ]
  },
  {
   "cell_type": "code",
   "execution_count": 137,
   "metadata": {
    "scrolled": true
   },
   "outputs": [
    {
     "data": {
      "image/png": "[encoded data removed]",
      "text/plain": [
       "<Figure size 1080x864 with 2 Axes>"
      ]
     },
     "metadata": {
      "needs_background": "light"
     },
     "output_type": "display_data"
    }
   ],
   "source": [
    "plt.figure(figsize=(15,12))\n",
    "sns.heatmap(round(df.describe()[1:].transpose(),2),linewidth=2,annot=True,fmt='f')\n",
    "plt.xticks(fontsize=18)\n",
    "plt.yticks(fontsize=12)\n",
    "plt.title(\"Variables summary\")\n",
    "plt.show()"
   ]
  },
  {
   "cell_type": "markdown",
   "metadata": {},
   "source": [
    "From the above plotting we are determining mean, standard deviation, minimum and maximum values of each column. It helps us further in data cleaning."
   ]
  },
  {
   "cell_type": "code",
   "execution_count": 138,
   "metadata": {
    "scrolled": true
   },
   "outputs": [
    {
     "name": "stdout",
     "output_type": "stream",
     "text": [
      "Total no of zeros in Capital_gain are: 29849\n",
      "Total no of zeros in Capital_loss are: 31041\n"
     ]
    }
   ],
   "source": [
    "# to count sum of zeros (0's) present\n",
    "print('Total no of zeros in Capital_gain are:',sum(df['Capital_gain']==0))\n",
    "print('Total no of zeros in Capital_loss are:',sum(df['Capital_loss']==0))"
   ]
  },
  {
   "cell_type": "code",
   "execution_count": 139,
   "metadata": {
    "scrolled": true
   },
   "outputs": [],
   "source": [
    "# dropping column as they have above 90% missing values\n",
    "df=df.drop(columns=['Capital_gain','Capital_loss'])"
   ]
  },
  {
   "cell_type": "code",
   "execution_count": 140,
   "metadata": {
    "scrolled": true
   },
   "outputs": [],
   "source": [
    "# dropping Education_num as it is same as Education feature.\n",
    "df=df.drop(columns=['Education_num'])"
   ]
  },
  {
   "cell_type": "code",
   "execution_count": 141,
   "metadata": {
    "scrolled": true
   },
   "outputs": [
    {
     "data": {
      "text/plain": [
       " HS-grad         10501\n",
       " Some-college     7291\n",
       " Bachelors        5354\n",
       " Masters          1723\n",
       " Assoc-voc        1382\n",
       " 11th             1175\n",
       " Assoc-acdm       1067\n",
       " 10th              933\n",
       " 7th-8th           646\n",
       " Prof-school       576\n",
       " 9th               514\n",
       " 12th              433\n",
       " Doctorate         413\n",
       " 5th-6th           333\n",
       " 1st-4th           168\n",
       " Preschool          51\n",
       "Name: Education, dtype: int64"
      ]
     },
     "execution_count": 141,
     "metadata": {},
     "output_type": "execute_result"
    }
   ],
   "source": [
    "# to know series containing the counts of unique values\n",
    "df['Education'].value_counts()"
   ]
  },
  {
   "cell_type": "code",
   "execution_count": 142,
   "metadata": {
    "scrolled": true
   },
   "outputs": [],
   "source": [
    "# appending duplicate values into one\n",
    "df['Education']=df['Education'].replace(['1st-4th','5th-6th','7th-8th','9th','10th','11th','12th','Preschool'],'School',regex=True)"
   ]
  },
  {
   "cell_type": "code",
   "execution_count": 143,
   "metadata": {
    "scrolled": true
   },
   "outputs": [
    {
     "data": {
      "text/plain": [
       " Married-civ-spouse       14976\n",
       " Never-married            10682\n",
       " Divorced                  4443\n",
       " Separated                 1025\n",
       " Widowed                    993\n",
       " Married-spouse-absent      418\n",
       " Married-AF-spouse           23\n",
       "Name: Marital_status, dtype: int64"
      ]
     },
     "execution_count": 143,
     "metadata": {},
     "output_type": "execute_result"
    }
   ],
   "source": [
    "df['Marital_status'].value_counts()"
   ]
  },
  {
   "cell_type": "code",
   "execution_count": 144,
   "metadata": {
    "scrolled": true
   },
   "outputs": [],
   "source": [
    "# appending duplicate values into one\n",
    "df['Marital_status']=df['Marital_status'].replace(['Married-civ-spouse','Married-spouse-absent','Married-AF-spouse'],'Married',regex=True)"
   ]
  },
  {
   "cell_type": "code",
   "execution_count": 145,
   "metadata": {
    "scrolled": true
   },
   "outputs": [
    {
     "data": {
      "text/plain": [
       " Private             22696\n",
       " Self-emp-not-inc     2541\n",
       " Local-gov            2093\n",
       " ?                    1836\n",
       " State-gov            1297\n",
       " Self-emp-inc         1116\n",
       " Federal-gov           960\n",
       " Without-pay            14\n",
       " Never-worked            7\n",
       "Name: Workclass, dtype: int64"
      ]
     },
     "execution_count": 145,
     "metadata": {},
     "output_type": "execute_result"
    }
   ],
   "source": [
    "df['Workclass'].value_counts()"
   ]
  },
  {
   "cell_type": "code",
   "execution_count": 146,
   "metadata": {
    "scrolled": true
   },
   "outputs": [],
   "source": [
    "# filling '?' with highest count of occurences\n",
    "df['Workclass']=df['Workclass'].str.replace('?','Private',regex=True)"
   ]
  },
  {
   "cell_type": "code",
   "execution_count": 147,
   "metadata": {
    "scrolled": true
   },
   "outputs": [
    {
     "data": {
      "text/plain": [
       " Prof-specialty       4140\n",
       " Craft-repair         4099\n",
       " Exec-managerial      4066\n",
       " Adm-clerical         3769\n",
       " Sales                3650\n",
       " Other-service        3295\n",
       " Machine-op-inspct    2002\n",
       " ?                    1843\n",
       " Transport-moving     1597\n",
       " Handlers-cleaners    1370\n",
       " Farming-fishing       994\n",
       " Tech-support          928\n",
       " Protective-serv       649\n",
       " Priv-house-serv       149\n",
       " Armed-Forces            9\n",
       "Name: Occupation, dtype: int64"
      ]
     },
     "execution_count": 147,
     "metadata": {},
     "output_type": "execute_result"
    }
   ],
   "source": [
    "df['Occupation'].value_counts()"
   ]
  },
  {
   "cell_type": "code",
   "execution_count": 148,
   "metadata": {
    "scrolled": true
   },
   "outputs": [],
   "source": [
    "# filling '?' with highest count of occurences\n",
    "df['Occupation']=df['Occupation'].str.replace('?','Prof-specialty',regex=True)"
   ]
  },
  {
   "cell_type": "code",
   "execution_count": 149,
   "metadata": {
    "scrolled": true
   },
   "outputs": [
    {
     "data": {
      "text/plain": [
       " United-States                 29169\n",
       " Mexico                          643\n",
       " ?                               583\n",
       " Philippines                     198\n",
       " Germany                         137\n",
       " Canada                          121\n",
       " Puerto-Rico                     114\n",
       " El-Salvador                     106\n",
       " India                           100\n",
       " Cuba                             95\n",
       " England                          90\n",
       " Jamaica                          81\n",
       " South                            80\n",
       " China                            75\n",
       " Italy                            73\n",
       " Dominican-Republic               70\n",
       " Vietnam                          67\n",
       " Guatemala                        64\n",
       " Japan                            62\n",
       " Poland                           60\n",
       " Columbia                         59\n",
       " Taiwan                           51\n",
       " Haiti                            44\n",
       " Iran                             43\n",
       " Portugal                         37\n",
       " Nicaragua                        34\n",
       " Peru                             31\n",
       " France                           29\n",
       " Greece                           29\n",
       " Ecuador                          28\n",
       " Ireland                          24\n",
       " Hong                             20\n",
       " Trinadad&Tobago                  19\n",
       " Cambodia                         19\n",
       " Thailand                         18\n",
       " Laos                             18\n",
       " Yugoslavia                       16\n",
       " Outlying-US(Guam-USVI-etc)       14\n",
       " Honduras                         13\n",
       " Hungary                          13\n",
       " Scotland                         12\n",
       " Holand-Netherlands                1\n",
       "Name: Native_country, dtype: int64"
      ]
     },
     "execution_count": 149,
     "metadata": {},
     "output_type": "execute_result"
    }
   ],
   "source": [
    "df['Native_country'].value_counts()"
   ]
  },
  {
   "cell_type": "code",
   "execution_count": 150,
   "metadata": {
    "scrolled": true
   },
   "outputs": [],
   "source": [
    "# filling '?' with highest count of occurences\n",
    "df['Native_country']=df['Native_country'].str.replace('?','United-States',regex=True)"
   ]
  },
  {
   "cell_type": "code",
   "execution_count": 151,
   "metadata": {
    "scrolled": true
   },
   "outputs": [],
   "source": [
    "df_new=df[['Age','Fnlwgt','Hours_per_week']]"
   ]
  },
  {
   "cell_type": "code",
   "execution_count": 152,
   "metadata": {
    "scrolled": true
   },
   "outputs": [
    {
     "data": {
      "image/png": "[encoded data removed]",
      "text/plain": [
       "<Figure size 1440x1080 with 3 Axes>"
      ]
     },
     "metadata": {},
     "output_type": "display_data"
    }
   ],
   "source": [
    "# lets visualize how data is distributed in every continous column \n",
    "plt.figure(figsize=(20,15), facecolor='white')\n",
    "plotnumber=1\n",
    "for column in df_new:\n",
    "    if plotnumber<=4:\n",
    "        ax=plt.subplot(2,2,plotnumber)\n",
    "        sns.distplot(df[column])\n",
    "        plt.xlabel(column,fontsize=20)\n",
    "    plotnumber+=1\n",
    "plt.show()"
   ]
  },
  {
   "cell_type": "markdown",
   "metadata": {},
   "source": [
    "For Age little skewness can be seen,Fnlwgt and Hours_per_week has skewness."
   ]
  },
  {
   "cell_type": "code",
   "execution_count": 153,
   "metadata": {
    "scrolled": true
   },
   "outputs": [
    {
     "data": {
      "image/png": "[encoded data removed]",
      "text/plain": [
       "<Figure size 360x360 with 1 Axes>"
      ]
     },
     "metadata": {},
     "output_type": "display_data"
    }
   ],
   "source": [
    "# to visualize column 'type' in pie chart\n",
    "\n",
    "labels = ['Male', 'Female']\n",
    "\n",
    "fig, ax = plt.subplots(figsize=(5,5))\n",
    "colors = ['gold', 'silver']\n",
    "ax.pie(df['Sex'].value_counts(),  labels=labels, autopct='%1.1f%%',shadow=True, startangle=90, colors=colors)\n",
    "\n",
    "ax.axis('equal') # Equal aspect ratio ensures that pie is drawn as a circle.\n",
    "plt.show()"
   ]
  },
  {
   "cell_type": "code",
   "execution_count": 154,
   "metadata": {
    "scrolled": true
   },
   "outputs": [
    {
     "data": {
      "text/plain": [
       "<AxesSubplot:xlabel='Income', ylabel='count'>"
      ]
     },
     "execution_count": 154,
     "metadata": {},
     "output_type": "execute_result"
    },
    {
     "data": {
      "image/png": "[encoded data removed]",
      "text/plain": [
       "<Figure size 1152x720 with 4 Axes>"
      ]
     },
     "metadata": {
      "needs_background": "light"
     },
     "output_type": "display_data"
    }
   ],
   "source": [
    "fig,ax = plt.subplots(2,2,figsize=(16,10))\n",
    "sns.countplot('Relationship',data=df,ax=ax[0][0])\n",
    "sns.countplot('Race',data=df,ax=ax[0][1])\n",
    "sns.countplot('Sex',data=df,ax=ax[1][0])\n",
    "sns.countplot('Income',data=df,ax=ax[1][1])"
   ]
  },
  {
   "cell_type": "markdown",
   "metadata": {},
   "source": [
    "from above plots\n",
    "1- In Relationship category, husband has the highest count.\n",
    "\n",
    "2- In race white people are large in numbers.\n",
    "\n",
    "3- Count of male is more than females.\n",
    "\n",
    "4- Few number of people falls in the category of making >$50k a year."
   ]
  },
  {
   "cell_type": "code",
   "execution_count": 156,
   "metadata": {
    "scrolled": true
   },
   "outputs": [
    {
     "data": {
      "text/plain": [
       " Prof-specialty       5983\n",
       " Craft-repair         4099\n",
       " Exec-managerial      4066\n",
       " Adm-clerical         3769\n",
       " Sales                3650\n",
       " Other-service        3295\n",
       " Machine-op-inspct    2002\n",
       " Transport-moving     1597\n",
       " Handlers-cleaners    1370\n",
       " Farming-fishing       994\n",
       " Tech-support          928\n",
       " Protective-serv       649\n",
       " Priv-house-serv       149\n",
       " Armed-Forces            9\n",
       "Name: Occupation, dtype: int64"
      ]
     },
     "execution_count": 156,
     "metadata": {},
     "output_type": "execute_result"
    }
   ],
   "source": [
    "df['Occupation'].value_counts()"
   ]
  },
  {
   "cell_type": "code",
   "execution_count": 157,
   "metadata": {
    "scrolled": true
   },
   "outputs": [],
   "source": [
    "# shortening variables \n",
    "df['Occupation']=df['Occupation'].replace('Transport-moving','Transport',regex=True)\n",
    "df['Occupation']=df['Occupation'].replace('Exec-managerial','Manager',regex=True)\n",
    "df['Occupation']=df['Occupation'].replace(['Protective-serv','Priv-house-serv'],'Servant',regex=True)\n",
    "df['Occupation']=df['Occupation'].replace('Prof-specialty','Professor',regex=True)\n",
    "df['Occupation']=df['Occupation'].replace('Machine-op-inspct','Machine-Operator',regex=True)"
   ]
  },
  {
   "cell_type": "code",
   "execution_count": 158,
   "metadata": {
    "scrolled": true
   },
   "outputs": [
    {
     "data": {
      "text/plain": [
       "<AxesSubplot:xlabel='Occupation', ylabel='count'>"
      ]
     },
     "execution_count": 158,
     "metadata": {},
     "output_type": "execute_result"
    },
    {
     "data": {
      "image/png": "[encoded data removed]",
      "text/plain": [
       "<Figure size 1296x432 with 1 Axes>"
      ]
     },
     "metadata": {
      "needs_background": "light"
     },
     "output_type": "display_data"
    }
   ],
   "source": [
    "plt.subplots(figsize=(18,6))\n",
    "sns.countplot(x='Occupation',hue='Income',data=df, palette='Set1')"
   ]
  },
  {
   "cell_type": "markdown",
   "metadata": {},
   "source": [
    "Professor & Manager are making more than $50k/year from others."
   ]
  },
  {
   "cell_type": "code",
   "execution_count": 159,
   "metadata": {
    "scrolled": true
   },
   "outputs": [
    {
     "data": {
      "text/plain": [
       "<AxesSubplot:xlabel='Race', ylabel='count'>"
      ]
     },
     "execution_count": 159,
     "metadata": {},
     "output_type": "execute_result"
    },
    {
     "data": {
      "image/png": "[encoded data removed]",
      "text/plain": [
       "<Figure size 720x288 with 1 Axes>"
      ]
     },
     "metadata": {
      "needs_background": "light"
     },
     "output_type": "display_data"
    }
   ],
   "source": [
    "plt.subplots(figsize=(10,4))\n",
    "sns.countplot(x='Race',hue='Income',data=df, palette='Set2')"
   ]
  },
  {
   "cell_type": "markdown",
   "metadata": {},
   "source": [
    "Except white people there is only few different race people who earns more than $50k/year.<a class=\"anchor-link\" href=\"#Except-white-people-there-is-only-few-different-race-people-who-earns-more-than-$50k/year."
   ]
  },
  {
   "cell_type": "code",
   "execution_count": 160,
   "metadata": {
    "scrolled": true
   },
   "outputs": [
    {
     "data": {
      "text/plain": [
       "<AxesSubplot:xlabel='Education', ylabel='count'>"
      ]
     },
     "execution_count": 160,
     "metadata": {},
     "output_type": "execute_result"
    },
    {
     "data": {
      "image/png": "[encoded data removed]",
      "text/plain": [
       "<Figure size 864x288 with 1 Axes>"
      ]
     },
     "metadata": {
      "needs_background": "light"
     },
     "output_type": "display_data"
    }
   ],
   "source": [
    "plt.subplots(figsize=(12,4))\n",
    "sns.countplot(x='Education',hue='Income',data=df, palette='Set3')"
   ]
  },
  {
   "cell_type": "code",
   "execution_count": 162,
   "metadata": {
    "scrolled": true
   },
   "outputs": [
    {
     "data": {
      "text/plain": [
       "<AxesSubplot:xlabel='Workclass', ylabel='count'>"
      ]
     },
     "execution_count": 162,
     "metadata": {},
     "output_type": "execute_result"
    },
    {
     "data": {
      "image/png": "[encoded data removed]",
      "text/plain": [
       "<Figure size 864x288 with 1 Axes>"
      ]
     },
     "metadata": {
      "needs_background": "light"
     },
     "output_type": "display_data"
    }
   ],
   "source": [
    "plt.subplots(figsize=(12,4))\n",
    "sns.countplot(x='Workclass',hue='Income',data=df)"
   ]
  },
  {
   "cell_type": "markdown",
   "metadata": {},
   "source": [
    "People working in private tops the occupation list for earning >50k a year."
   ]
  },
  {
   "cell_type": "code",
   "execution_count": 163,
   "metadata": {
    "scrolled": true
   },
   "outputs": [],
   "source": [
    "# converting objects into integers\n",
    "lab_enc = LabelEncoder()\n",
    "list1 = ['Workclass','Education','Marital_status','Occupation','Relationship','Race','Sex','Native_country','Income']\n",
    "for val in list1:\n",
    "    df[val] = lab_enc.fit_transform(df[val].astype(str))"
   ]
  },
  {
   "cell_type": "code",
   "execution_count": 164,
   "metadata": {
    "scrolled": true
   },
   "outputs": [
    {
     "name": "stdout",
     "output_type": "stream",
     "text": [
      "Age\n",
      "0.5587118988154982\n",
      "Workclass\n",
      "0.07617495765456885\n",
      "Fnlwgt\n",
      "1.4469055818253151\n",
      "Education\n",
      "-0.0436639783408086\n",
      "Marital_status\n",
      "0.7023957554213066\n",
      "Occupation\n",
      "-0.27750719494681225\n",
      "Relationship\n",
      "0.7867473090814343\n",
      "Race\n",
      "-2.4352196663495116\n",
      "Sex\n",
      "-0.7192106431922183\n",
      "Hours_per_week\n",
      "0.2276253044722967\n",
      "Native_country\n",
      "-4.242887484296264\n",
      "Income\n",
      "1.212327081863191\n"
     ]
    }
   ],
   "source": [
    "# to see skewness for every continous column stored in con_datanew\n",
    "for col in df:\n",
    "    print(col)\n",
    "    print(skew(df[col]))"
   ]
  },
  {
   "cell_type": "code",
   "execution_count": 165,
   "metadata": {
    "scrolled": true
   },
   "outputs": [],
   "source": [
    "# removing the skewness for continous data feature\n",
    "q = df['Fnlwgt'].quantile(0.96)\n",
    "# removing the top 4% data from the Fnlwgt column\n",
    "df= df[df['Fnlwgt']<q]"
   ]
  },
  {
   "cell_type": "code",
   "execution_count": 166,
   "metadata": {
    "scrolled": true
   },
   "outputs": [
    {
     "data": {
      "image/png": "[encoded data removed]",
      "text/plain": [
       "<Figure size 1080x720 with 2 Axes>"
      ]
     },
     "metadata": {
      "needs_background": "light"
     },
     "output_type": "display_data"
    }
   ],
   "source": [
    "# plotting heatmap to observe the correlation\n",
    "plt.figure(figsize=(15,10))\n",
    "sns.heatmap(df.corr(), annot=True, vmin=-1.0, vmax=1.0)\n",
    "plt.show()"
   ]
  },
  {
   "cell_type": "markdown",
   "metadata": {},
   "source": [
    "Age and Hours_per_week shows good relation with target/label (Income) variable."
   ]
  },
  {
   "cell_type": "code",
   "execution_count": 182,
   "metadata": {
    "scrolled": true
   },
   "outputs": [],
   "source": [
    "y = df['Income']\n",
    "X = df.drop('Income', axis = 1)"
   ]
  },
  {
   "cell_type": "code",
   "execution_count": 183,
   "metadata": {
    "scrolled": true
   },
   "outputs": [],
   "source": [
    "# Data Scaling.  Formula Z=(x-mean)/std\n",
    "scalar = StandardScaler()\n",
    "X_scaled = scalar.fit_transform(X)"
   ]
  },
  {
   "cell_type": "code",
   "execution_count": 184,
   "metadata": {
    "scrolled": true
   },
   "outputs": [
    {
     "data": {
      "text/html": [
       "<div>\n",
       "<style scoped>\n",
       "    .dataframe tbody tr th:only-of-type {\n",
       "        vertical-align: middle;\n",
       "    }\n",
       "\n",
       "    .dataframe tbody tr th {\n",
       "        vertical-align: top;\n",
       "    }\n",
       "\n",
       "    .dataframe thead th {\n",
       "        text-align: right;\n",
       "    }\n",
       "</style>\n",
       "<table border=\"1\" class=\"dataframe\">\n",
       "  <thead>\n",
       "    <tr style=\"text-align: right;\">\n",
       "      <th></th>\n",
       "      <th>vif</th>\n",
       "      <th>features</th>\n",
       "    </tr>\n",
       "  </thead>\n",
       "  <tbody>\n",
       "    <tr>\n",
       "      <th>0</th>\n",
       "      <td>1.109856</td>\n",
       "      <td>Age</td>\n",
       "    </tr>\n",
       "    <tr>\n",
       "      <th>1</th>\n",
       "      <td>1.009780</td>\n",
       "      <td>Workclass</td>\n",
       "    </tr>\n",
       "    <tr>\n",
       "      <th>2</th>\n",
       "      <td>1.008956</td>\n",
       "      <td>Fnlwgt</td>\n",
       "    </tr>\n",
       "    <tr>\n",
       "      <th>3</th>\n",
       "      <td>1.022149</td>\n",
       "      <td>Education</td>\n",
       "    </tr>\n",
       "    <tr>\n",
       "      <th>4</th>\n",
       "      <td>1.087831</td>\n",
       "      <td>Marital_status</td>\n",
       "    </tr>\n",
       "    <tr>\n",
       "      <th>5</th>\n",
       "      <td>1.007221</td>\n",
       "      <td>Occupation</td>\n",
       "    </tr>\n",
       "    <tr>\n",
       "      <th>6</th>\n",
       "      <td>1.678039</td>\n",
       "      <td>Relationship</td>\n",
       "    </tr>\n",
       "    <tr>\n",
       "      <th>7</th>\n",
       "      <td>1.034513</td>\n",
       "      <td>Race</td>\n",
       "    </tr>\n",
       "    <tr>\n",
       "      <th>8</th>\n",
       "      <td>1.559521</td>\n",
       "      <td>Sex</td>\n",
       "    </tr>\n",
       "    <tr>\n",
       "      <th>9</th>\n",
       "      <td>1.114090</td>\n",
       "      <td>Hours_per_week</td>\n",
       "    </tr>\n",
       "    <tr>\n",
       "      <th>10</th>\n",
       "      <td>1.020756</td>\n",
       "      <td>Native_country</td>\n",
       "    </tr>\n",
       "  </tbody>\n",
       "</table>\n",
       "</div>"
      ],
      "text/plain": [
       "         vif        features\n",
       "0   1.109856             Age\n",
       "1   1.009780       Workclass\n",
       "2   1.008956          Fnlwgt\n",
       "3   1.022149       Education\n",
       "4   1.087831  Marital_status\n",
       "5   1.007221      Occupation\n",
       "6   1.678039    Relationship\n",
       "7   1.034513            Race\n",
       "8   1.559521             Sex\n",
       "9   1.114090  Hours_per_week\n",
       "10  1.020756  Native_country"
      ]
     },
     "execution_count": 184,
     "metadata": {},
     "output_type": "execute_result"
    }
   ],
   "source": [
    "from statsmodels.stats.outliers_influence import variance_inflation_factor\n",
    "vif = pd.DataFrame()\n",
    "vif[\"vif\"] = [variance_inflation_factor(X_scaled, i) for i in range (X_scaled.shape[1])]\n",
    "vif[\"features\"] = X.columns\n",
    "\n",
    "#let's check the values\n",
    "vif"
   ]
  },
  {
   "cell_type": "markdown",
   "metadata": {},
   "source": [
    "No Multi-collinearity problem exists"
   ]
  },
  {
   "cell_type": "code",
   "execution_count": 185,
   "metadata": {
    "scrolled": true
   },
   "outputs": [],
   "source": [
    "# Split data into train and test. Model will be built on training data and tested on test data\n",
    "x_train,x_test,y_train,y_test = train_test_split(X_scaled,y,test_size = 0.25, random_state = 101)"
   ]
  },
  {
   "cell_type": "markdown",
   "metadata": {},
   "source": [
    "### Logistic Regression"
   ]
  },
  {
   "cell_type": "code",
   "execution_count": 186,
   "metadata": {
    "scrolled": true
   },
   "outputs": [
    {
     "data": {
      "text/plain": [
       "LogisticRegression()"
      ]
     },
     "execution_count": 186,
     "metadata": {},
     "output_type": "execute_result"
    }
   ],
   "source": [
    "log_reg = LogisticRegression()\n",
    "log_reg.fit(x_train,y_train)"
   ]
  },
  {
   "cell_type": "code",
   "execution_count": 187,
   "metadata": {
    "scrolled": true
   },
   "outputs": [],
   "source": [
    "y_pred = log_reg.predict(x_test)"
   ]
  },
  {
   "cell_type": "code",
   "execution_count": 188,
   "metadata": {
    "scrolled": true
   },
   "outputs": [
    {
     "data": {
      "text/plain": [
       "0.7685220729366603"
      ]
     },
     "execution_count": 188,
     "metadata": {},
     "output_type": "execute_result"
    }
   ],
   "source": [
    "accuracy = accuracy_score(y_test,y_pred)\n",
    "accuracy"
   ]
  },
  {
   "cell_type": "code",
   "execution_count": 189,
   "metadata": {
    "scrolled": true
   },
   "outputs": [
    {
     "data": {
      "text/plain": [
       "array([[5564,  336],\n",
       "       [1473,  442]], dtype=int64)"
      ]
     },
     "execution_count": 189,
     "metadata": {},
     "output_type": "execute_result"
    }
   ],
   "source": [
    "# Confusion Matrix\n",
    "conf_mat =confusion_matrix(y_test,y_pred)\n",
    "conf_mat"
   ]
  },
  {
   "cell_type": "code",
   "execution_count": 190,
   "metadata": {
    "scrolled": true
   },
   "outputs": [
    {
     "name": "stdout",
     "output_type": "stream",
     "text": [
      "\n",
      "----------------Classification Report-------------------\n",
      "              precision    recall  f1-score   support\n",
      "\n",
      "           0       0.79      0.94      0.86      5900\n",
      "           1       0.57      0.23      0.33      1915\n",
      "\n",
      "    accuracy                           0.77      7815\n",
      "   macro avg       0.68      0.59      0.59      7815\n",
      "weighted avg       0.74      0.77      0.73      7815\n",
      "\n"
     ]
    }
   ],
   "source": [
    "print('\\n----------------Classification Report-------------------')\n",
    "print (classification_report(y_test,y_pred,digits=2))"
   ]
  },
  {
   "cell_type": "code",
   "execution_count": 191,
   "metadata": {
    "scrolled": true
   },
   "outputs": [
    {
     "name": "stdout",
     "output_type": "stream",
     "text": [
      "\n",
      "=============== Cross Validation Score ===================\n",
      "[0.75799744 0.75799744 0.7581187  0.7581187  0.75795873]\n",
      "0.7580382020514593\n",
      "6.723015231176797e-05\n"
     ]
    }
   ],
   "source": [
    "# Cross Validation score to check if the model is overfitting or underfitting\n",
    "score= cross_val_score(log_reg,X,y,cv=5)\n",
    "\n",
    "print(\"\\n=============== Cross Validation Score ===================\")\n",
    "print(score)\n",
    "print(score.mean())\n",
    "print(score.std())"
   ]
  },
  {
   "cell_type": "markdown",
   "metadata": {},
   "source": [
    "#### Decision Tree Classifier"
   ]
  },
  {
   "cell_type": "code",
   "execution_count": 192,
   "metadata": {
    "scrolled": true
   },
   "outputs": [
    {
     "name": "stdout",
     "output_type": "stream",
     "text": [
      "\n",
      "===================Train Result======================\n",
      "Accuracy Score: 100.00%\n",
      "______________________________________________\n",
      "CLASSIFICATION REPORT:\n",
      "                      0            1  accuracy     macro avg  weighted avg\n",
      "precision      0.999944     1.000000  0.999957      0.999972      0.999957\n",
      "recall         1.000000     0.999823  0.999957      0.999911      0.999957\n",
      "f1-score       0.999972     0.999911  0.999957      0.999942      0.999957\n",
      "support    17794.000000  5648.000000  0.999957  23442.000000  23442.000000\n",
      "______________________________________________\n",
      "Confusion Matrix:\n",
      " [[17794     0]\n",
      " [    1  5647]]\n",
      "\n",
      "\n",
      "===================Test Result======================\n",
      "Accuracy Score: 77.97%\n",
      "______________________________________________\n",
      "CLASSIFICATION REPORT:\n",
      "                     0            1  accuracy   macro avg  weighted avg\n",
      "precision     0.854068     0.550392  0.779655     0.70223      0.779655\n",
      "recall        0.854068     0.550392  0.779655     0.70223      0.779655\n",
      "f1-score      0.854068     0.550392  0.779655     0.70223      0.779655\n",
      "support    5900.000000  1915.000000  0.779655  7815.00000   7815.000000\n",
      "______________________________________________\n",
      "Confusion Matrix:\n",
      " [[5039  861]\n",
      " [ 861 1054]]\n",
      "\n"
     ]
    }
   ],
   "source": [
    "dt_clf = DecisionTreeClassifier()\n",
    "dt_clf.fit(x_train,y_train)\n",
    "pred=dt_clf.predict(x_train)\n",
    "dt_clf_report = pd.DataFrame(classification_report(y_train,pred, output_dict=True))\n",
    "\n",
    "print(\"\\n===================Train Result======================\")\n",
    "\n",
    "print(f\"Accuracy Score: {accuracy_score(y_train,pred) * 100:.2f}%\")\n",
    "print(\"______________________________________________\")\n",
    "print(f\"CLASSIFICATION REPORT:\\n{dt_clf_report}\")\n",
    "print(\"______________________________________________\")\n",
    "print(f\"Confusion Matrix:\\n {confusion_matrix(y_train,pred)}\\n\")\n",
    "\n",
    "#*********************** Test Score *************************\n",
    "\n",
    "pred = dt_clf.predict(x_test)  \n",
    "dt_clf_report = pd.DataFrame(classification_report(y_test,pred, output_dict=True))\n",
    "print(\"\\n===================Test Result======================\")\n",
    "print(f\"Accuracy Score: {accuracy_score(y_test,pred) * 100:.2f}%\")\n",
    "print(\"______________________________________________\")\n",
    "print(f\"CLASSIFICATION REPORT:\\n{dt_clf_report}\")\n",
    "print(\"______________________________________________\")\n",
    "print(f\"Confusion Matrix:\\n {confusion_matrix(y_test,pred)}\\n\")"
   ]
  },
  {
   "cell_type": "code",
   "execution_count": 193,
   "metadata": {
    "scrolled": true
   },
   "outputs": [
    {
     "name": "stdout",
     "output_type": "stream",
     "text": [
      "\n",
      "=============== Cross Validation Score ===================\n",
      "[0.77415227 0.76663468 0.77347624 0.77443609 0.77555591]\n",
      "0.7728510386514742\n",
      "0.0031798101957683377\n"
     ]
    }
   ],
   "source": [
    "# Cross Validation score to check if the model is overfitting or underfitting\n",
    "score= cross_val_score(dt_clf,X,y,cv=5)\n",
    "\n",
    "print(\"\\n=============== Cross Validation Score ===================\")\n",
    "print(score)\n",
    "print(score.mean())\n",
    "print(score.std())"
   ]
  },
  {
   "cell_type": "markdown",
   "metadata": {},
   "source": [
    "#### Random Forest Classifier"
   ]
  },
  {
   "cell_type": "code",
   "execution_count": 194,
   "metadata": {
    "scrolled": true
   },
   "outputs": [
    {
     "name": "stdout",
     "output_type": "stream",
     "text": [
      "\n",
      "===================Train Result======================\n",
      "Accuracy Score: 100.00%\n",
      "______________________________________________\n",
      "CLASSIFICATION REPORT:\n",
      "                      0            1  accuracy     macro avg  weighted avg\n",
      "precision      0.999944     1.000000  0.999957      0.999972      0.999957\n",
      "recall         1.000000     0.999823  0.999957      0.999911      0.999957\n",
      "f1-score       0.999972     0.999911  0.999957      0.999942      0.999957\n",
      "support    17794.000000  5648.000000  0.999957  23442.000000  23442.000000\n",
      "______________________________________________\n",
      "Confusion Matrix:\n",
      " [[17794     0]\n",
      " [    1  5647]]\n",
      "\n",
      "\n",
      "===================Test Result======================\n",
      "Accuracy Score: 82.53%\n",
      "______________________________________________\n",
      "CLASSIFICATION REPORT:\n",
      "                     0            1  accuracy    macro avg  weighted avg\n",
      "precision     0.864491     0.672522  0.825336     0.768507      0.817451\n",
      "recall        0.911525     0.559791  0.825336     0.735658      0.825336\n",
      "f1-score      0.887386     0.611000  0.825336     0.749193      0.819660\n",
      "support    5900.000000  1915.000000  0.825336  7815.000000   7815.000000\n",
      "______________________________________________\n",
      "Confusion Matrix:\n",
      " [[5378  522]\n",
      " [ 843 1072]]\n",
      "\n"
     ]
    }
   ],
   "source": [
    "rand_clf = RandomForestClassifier(random_state=101)\n",
    "rand_clf.fit(x_train,y_train)\n",
    "pred=dt_clf.predict(x_train)\n",
    "rand_clf_report = pd.DataFrame(classification_report(y_train,pred, output_dict=True))\n",
    "\n",
    "print(\"\\n===================Train Result======================\")\n",
    "\n",
    "print(f\"Accuracy Score: {accuracy_score(y_train,pred) * 100:.2f}%\")\n",
    "print(\"______________________________________________\")\n",
    "print(f\"CLASSIFICATION REPORT:\\n{rand_clf_report}\")\n",
    "print(\"______________________________________________\")\n",
    "print(f\"Confusion Matrix:\\n {confusion_matrix(y_train,pred)}\\n\")\n",
    "\n",
    "#*********************** Test Score *************************\n",
    "\n",
    "pred = rand_clf.predict(x_test)  \n",
    "rand_clf_report = pd.DataFrame(classification_report(y_test,pred, output_dict=True))\n",
    "print(\"\\n===================Test Result======================\")\n",
    "print(f\"Accuracy Score: {accuracy_score(y_test,pred) * 100:.2f}%\")\n",
    "print(\"______________________________________________\")\n",
    "print(f\"CLASSIFICATION REPORT:\\n{rand_clf_report}\")\n",
    "print(\"______________________________________________\")\n",
    "print(f\"Confusion Matrix:\\n {confusion_matrix(y_test,pred)}\\n\")"
   ]
  },
  {
   "cell_type": "code",
   "execution_count": 195,
   "metadata": {
    "scrolled": true
   },
   "outputs": [
    {
     "name": "stdout",
     "output_type": "stream",
     "text": [
      "\n",
      "=============== Cross Validation Score ===================\n",
      "[0.82213692 0.82117722 0.82418813 0.82818749 0.82594785]\n",
      "0.8243275215440897\n",
      "0.00254036912251618\n"
     ]
    }
   ],
   "source": [
    "# Cross Validation score to check if the model is overfitting or underfitting\n",
    "score= cross_val_score(rand_clf,X,y,cv=5)\n",
    "\n",
    "print(\"\\n=============== Cross Validation Score ===================\")\n",
    "print(score)\n",
    "print(score.mean())\n",
    "print(score.std())"
   ]
  },
  {
   "cell_type": "markdown",
   "metadata": {},
   "source": [
    "#### Using GridSearchCV for hyper parameter tuning on best model (Random Forest Classifier) as its CV score & accuracy score is having least difference"
   ]
  },
  {
   "cell_type": "code",
   "execution_count": 210,
   "metadata": {
    "scrolled": true
   },
   "outputs": [],
   "source": [
    "# we are tuning three hyperparameters right now, we are passing different values for both parameters\n",
    "grid_param = {\n",
    "    'max_depth' : range(2,20,3),              \n",
    "    'min_samples_leaf' : range (1,20,2),\n",
    "    'min_samples_split' : range (2,20,2)\n",
    "}"
   ]
  },
  {
   "cell_type": "code",
   "execution_count": 211,
   "metadata": {
    "scrolled": true
   },
   "outputs": [],
   "source": [
    "grid_search = GridSearchCV(estimator=rand_clf,\n",
    "                          param_grid=grid_param,\n",
    "                          cv=3,\n",
    "                          n_jobs =-1)"
   ]
  },
  {
   "cell_type": "code",
   "execution_count": 212,
   "metadata": {
    "scrolled": true
   },
   "outputs": [
    {
     "data": {
      "text/plain": [
       "GridSearchCV(cv=3, estimator=RandomForestClassifier(random_state=101),\n",
       "             n_jobs=-1,\n",
       "             param_grid={'max_depth': range(2, 20, 3),\n",
       "                         'min_samples_leaf': range(1, 20, 2),\n",
       "                         'min_samples_split': range(2, 20, 2)})"
      ]
     },
     "execution_count": 212,
     "metadata": {},
     "output_type": "execute_result"
    }
   ],
   "source": [
    "grid_search.fit(x_train,y_train)"
   ]
  },
  {
   "cell_type": "code",
   "execution_count": 213,
   "metadata": {
    "scrolled": true
   },
   "outputs": [
    {
     "name": "stdout",
     "output_type": "stream",
     "text": [
      "{'max_depth': 14, 'min_samples_leaf': 5, 'min_samples_split': 14}\n"
     ]
    }
   ],
   "source": [
    "best_parameters = grid_search.best_params_\n",
    "print(best_parameters)"
   ]
  },
  {
   "cell_type": "code",
   "execution_count": 214,
   "metadata": {
    "scrolled": true
   },
   "outputs": [
    {
     "data": {
      "text/plain": [
       "RandomForestClassifier(max_depth=14, min_samples_leaf=5, min_samples_split=14)"
      ]
     },
     "execution_count": 214,
     "metadata": {},
     "output_type": "execute_result"
    }
   ],
   "source": [
    "rand_clf = RandomForestClassifier(max_depth =14, min_samples_leaf=5, min_samples_split=14)\n",
    "rand_clf.fit(x_train,y_train)"
   ]
  },
  {
   "cell_type": "code",
   "execution_count": 215,
   "metadata": {
    "scrolled": true
   },
   "outputs": [
    {
     "data": {
      "text/plain": [
       "0.838131797824696"
      ]
     },
     "execution_count": 215,
     "metadata": {},
     "output_type": "execute_result"
    }
   ],
   "source": [
    "rand_clf.score(x_test,y_test)"
   ]
  },
  {
   "cell_type": "markdown",
   "metadata": {},
   "source": [
    "After doing hyper parameter tuning on random forest classifier, score improves by 2.5%."
   ]
  },
  {
   "cell_type": "markdown",
   "metadata": {},
   "source": [
    "#### KNN Classifier"
   ]
  },
  {
   "cell_type": "code",
   "execution_count": 216,
   "metadata": {
    "scrolled": true
   },
   "outputs": [
    {
     "name": "stdout",
     "output_type": "stream",
     "text": [
      "\n",
      "===================Train Result======================\n",
      "Accuracy Score: 88.20%\n",
      "______________________________________________\n",
      "CLASSIFICATION REPORT:\n",
      "                      0            1  accuracy     macro avg  weighted avg\n",
      "precision      0.911455     0.778185  0.882007      0.844820      0.879346\n",
      "recall         0.935428     0.713704  0.882007      0.824566      0.882007\n",
      "f1-score       0.923286     0.744551  0.882007      0.833919      0.880223\n",
      "support    17794.000000  5648.000000  0.882007  23442.000000  23442.000000\n",
      "______________________________________________\n",
      "Confusion Matrix:\n",
      " [[16645  1149]\n",
      " [ 1617  4031]]\n",
      "\n",
      "\n",
      "===================Test Result======================\n",
      "Accuracy Score: 79.54%\n",
      "______________________________________________\n",
      "CLASSIFICATION REPORT:\n",
      "                     0            1  accuracy    macro avg  weighted avg\n",
      "precision     0.855044     0.589875  0.795393     0.722459      0.790066\n",
      "recall        0.877797     0.541514  0.795393     0.709655      0.795393\n",
      "f1-score      0.866271     0.564661  0.795393     0.715466      0.792364\n",
      "support    5900.000000  1915.000000  0.795393  7815.000000   7815.000000\n",
      "______________________________________________\n",
      "Confusion Matrix:\n",
      " [[5179  721]\n",
      " [ 878 1037]]\n",
      "\n"
     ]
    }
   ],
   "source": [
    "knn = KNeighborsClassifier(n_neighbors=3)\n",
    "knn.fit(x_train,y_train)\n",
    "pred=knn.predict(x_train)\n",
    "knn_report = pd.DataFrame(classification_report(y_train,pred, output_dict=True))\n",
    "\n",
    "print(\"\\n===================Train Result======================\")\n",
    "\n",
    "print(f\"Accuracy Score: {accuracy_score(y_train,pred) * 100:.2f}%\")\n",
    "print(\"______________________________________________\")\n",
    "print(f\"CLASSIFICATION REPORT:\\n{knn_report}\")\n",
    "print(\"______________________________________________\")\n",
    "print(f\"Confusion Matrix:\\n {confusion_matrix(y_train,pred)}\\n\")\n",
    "\n",
    "#*********************** Test Score *************************\n",
    "\n",
    "pred = knn.predict(x_test)  \n",
    "knn_report = pd.DataFrame(classification_report(y_test,pred, output_dict=True))\n",
    "print(\"\\n===================Test Result======================\")\n",
    "print(f\"Accuracy Score: {accuracy_score(y_test,pred) * 100:.2f}%\")\n",
    "print(\"______________________________________________\")\n",
    "print(f\"CLASSIFICATION REPORT:\\n{knn_report}\")\n",
    "print(\"______________________________________________\")\n",
    "print(f\"Confusion Matrix:\\n {confusion_matrix(y_test,pred)}\\n\")"
   ]
  },
  {
   "cell_type": "code",
   "execution_count": 217,
   "metadata": {
    "scrolled": true
   },
   "outputs": [
    {
     "name": "stdout",
     "output_type": "stream",
     "text": [
      "\n",
      "=============== Cross Validation Score ===================\n",
      "[0.70953295 0.71641075 0.70516717 0.70644697 0.70452728]\n",
      "0.708417023077971\n",
      "0.004352418015833271\n"
     ]
    }
   ],
   "source": [
    "# Cross Validation score to check if the model is overfitting or underfitting\n",
    "score= cross_val_score(knn,X,y,cv=5)\n",
    "\n",
    "print(\"\\n=============== Cross Validation Score ===================\")\n",
    "print(score)\n",
    "print(score.mean())\n",
    "print(score.std())"
   ]
  },
  {
   "cell_type": "markdown",
   "metadata": {},
   "source": [
    "#### SVC"
   ]
  },
  {
   "cell_type": "code",
   "execution_count": 218,
   "metadata": {
    "scrolled": true
   },
   "outputs": [
    {
     "name": "stdout",
     "output_type": "stream",
     "text": [
      "\n",
      "===================Train Result======================\n",
      "Accuracy Score: 78.45%\n",
      "______________________________________________\n",
      "CLASSIFICATION REPORT:\n",
      "                      0            1  accuracy     macro avg  weighted avg\n",
      "precision      0.798138     0.644133  0.784532      0.721135      0.761033\n",
      "recall         0.958582     0.236190  0.784532      0.597386      0.784532\n",
      "f1-score       0.871033     0.345641  0.784532      0.608337      0.744447\n",
      "support    17794.000000  5648.000000  0.784532  23442.000000  23442.000000\n",
      "______________________________________________\n",
      "Confusion Matrix:\n",
      " [[17057   737]\n",
      " [ 4314  1334]]\n",
      "\n",
      "\n",
      "===================Test Result======================\n",
      "Accuracy Score: 77.98%\n",
      "______________________________________________\n",
      "CLASSIFICATION REPORT:\n",
      "                     0            1  accuracy    macro avg  weighted avg\n",
      "precision     0.794503     0.634722  0.779782     0.714613      0.755350\n",
      "recall        0.955424     0.238642  0.779782     0.597033      0.779782\n",
      "f1-score      0.867564     0.346869  0.779782     0.607217      0.739972\n",
      "support    5900.000000  1915.000000  0.779782  7815.000000   7815.000000\n",
      "______________________________________________\n",
      "Confusion Matrix:\n",
      " [[5637  263]\n",
      " [1458  457]]\n",
      "\n"
     ]
    }
   ],
   "source": [
    "svc = SVC(kernel = 'poly',C=5)\n",
    "svc.fit(x_train,y_train)\n",
    "pred=svc.predict(x_train)\n",
    "svc_report = pd.DataFrame(classification_report(y_train,pred, output_dict=True))\n",
    "\n",
    "print(\"\\n===================Train Result======================\")\n",
    "\n",
    "print(f\"Accuracy Score: {accuracy_score(y_train,pred) * 100:.2f}%\")\n",
    "print(\"______________________________________________\")\n",
    "print(f\"CLASSIFICATION REPORT:\\n{svc_report}\")\n",
    "print(\"______________________________________________\")\n",
    "print(f\"Confusion Matrix:\\n {confusion_matrix(y_train,pred)}\\n\")\n",
    "\n",
    "#*********************** Test Score *************************\n",
    "\n",
    "pred = svc.predict(x_test)  \n",
    "svc_report = pd.DataFrame(classification_report(y_test,pred, output_dict=True))\n",
    "print(\"\\n===================Test Result======================\")\n",
    "print(f\"Accuracy Score: {accuracy_score(y_test,pred) * 100:.2f}%\")\n",
    "print(\"______________________________________________\")\n",
    "print(f\"CLASSIFICATION REPORT:\\n{svc_report}\")\n",
    "print(\"______________________________________________\")\n",
    "print(f\"Confusion Matrix:\\n {confusion_matrix(y_test,pred)}\\n\")"
   ]
  },
  {
   "cell_type": "markdown",
   "metadata": {},
   "source": [
    "#### Gradient Boosting Classifier"
   ]
  },
  {
   "cell_type": "code",
   "execution_count": 219,
   "metadata": {
    "scrolled": true
   },
   "outputs": [
    {
     "name": "stdout",
     "output_type": "stream",
     "text": [
      "\n",
      "===================Train Result======================\n",
      "Accuracy Score: 84.23%\n",
      "______________________________________________\n",
      "CLASSIFICATION REPORT:\n",
      "                      0            1  accuracy     macro avg  weighted avg\n",
      "precision      0.869522     0.723546  0.842334      0.796534      0.834351\n",
      "recall         0.932168     0.559313  0.842334      0.745741      0.842334\n",
      "f1-score       0.899756     0.630917  0.842334      0.765336      0.834983\n",
      "support    17794.000000  5648.000000  0.842334  23442.000000  23442.000000\n",
      "______________________________________________\n",
      "Confusion Matrix:\n",
      " [[16587  1207]\n",
      " [ 2489  3159]]\n",
      "\n",
      "\n",
      "===================Test Result======================\n",
      "Accuracy Score: 84.01%\n",
      "______________________________________________\n",
      "CLASSIFICATION REPORT:\n",
      "                     0            1  accuracy    macro avg  weighted avg\n",
      "precision     0.867763     0.722706  0.840051     0.795235      0.832218\n",
      "recall        0.929831     0.563446  0.840051     0.746638      0.840051\n",
      "f1-score      0.897725     0.633216  0.840051     0.765471      0.832910\n",
      "support    5900.000000  1915.000000  0.840051  7815.000000   7815.000000\n",
      "______________________________________________\n",
      "Confusion Matrix:\n",
      " [[5486  414]\n",
      " [ 836 1079]]\n",
      "\n"
     ]
    }
   ],
   "source": [
    "gbdt_clf = GradientBoostingClassifier()\n",
    "gbdt_clf.fit(x_train,y_train)\n",
    "pred=gbdt_clf.predict(x_train)\n",
    "gbdt_clf_report = pd.DataFrame(classification_report(y_train,pred, output_dict=True))\n",
    "\n",
    "print(\"\\n===================Train Result======================\")\n",
    "\n",
    "print(f\"Accuracy Score: {accuracy_score(y_train,pred) * 100:.2f}%\")\n",
    "print(\"______________________________________________\")\n",
    "print(f\"CLASSIFICATION REPORT:\\n{gbdt_clf_report}\")\n",
    "print(\"______________________________________________\")\n",
    "print(f\"Confusion Matrix:\\n {confusion_matrix(y_train,pred)}\\n\")\n",
    "\n",
    "#*********************** Test Score *************************\n",
    "\n",
    "pred = gbdt_clf.predict(x_test)  \n",
    "gbdt_clf_report = pd.DataFrame(classification_report(y_test,pred, output_dict=True))\n",
    "print(\"\\n===================Test Result======================\")\n",
    "print(f\"Accuracy Score: {accuracy_score(y_test,pred) * 100:.2f}%\")\n",
    "print(\"______________________________________________\")\n",
    "print(f\"CLASSIFICATION REPORT:\\n{gbdt_clf_report}\")\n",
    "print(\"______________________________________________\")\n",
    "print(f\"Confusion Matrix:\\n {confusion_matrix(y_test,pred)}\\n\")"
   ]
  },
  {
   "cell_type": "code",
   "execution_count": 220,
   "metadata": {
    "scrolled": true
   },
   "outputs": [
    {
     "name": "stdout",
     "output_type": "stream",
     "text": [
      "\n",
      "=============== Cross Validation Score ===================\n",
      "[0.83557262 0.83413308 0.83682611 0.84754439 0.84018557]\n",
      "0.8388523530412997\n",
      "0.004784619678006016\n"
     ]
    }
   ],
   "source": [
    "# Cross Validation score to check if the model is overfitting or underfitting\n",
    "score= cross_val_score(gbdt_clf,X,y,cv=5)\n",
    "\n",
    "print(\"\\n=============== Cross Validation Score ===================\")\n",
    "print(score)\n",
    "print(score.mean())\n",
    "print(score.std())"
   ]
  },
  {
   "cell_type": "markdown",
   "metadata": {},
   "source": [
    "#### PCA"
   ]
  },
  {
   "cell_type": "code",
   "execution_count": 221,
   "metadata": {
    "scrolled": true
   },
   "outputs": [],
   "source": [
    "scaler = StandardScaler()\n",
    "X=df.drop('Income', axis=1)\n",
    "X_scaled = scaler.fit_transform(X)"
   ]
  },
  {
   "cell_type": "code",
   "execution_count": 222,
   "metadata": {
    "scrolled": true
   },
   "outputs": [
    {
     "data": {
      "text/plain": [
       "array([[-0.89991644, -1.06682667,  0.31902186, ..., -0.05233131,\n",
       "        -1.9997123 , -0.06403925],\n",
       "       [-1.05909226, -0.20148748, -0.11095056, ..., -0.10300636,\n",
       "        -0.99004873,  0.23327467],\n",
       "       [-0.78130029,  1.33577581, -0.07696201, ..., -1.92302747,\n",
       "         0.06422267, -0.07712987],\n",
       "       ...,\n",
       "       [ 2.26595727, -0.98580902,  0.39859307, ...,  0.14924762,\n",
       "         2.55975014,  0.63183775],\n",
       "       [ 1.44976108, -0.51368853, -1.2359709 , ...,  0.17680237,\n",
       "        -1.25571259,  0.90100085],\n",
       "       [ 1.41163016, -0.49013165,  0.55597367, ..., -0.48366212,\n",
       "         0.74513144,  0.87130843]])"
      ]
     },
     "execution_count": 222,
     "metadata": {},
     "output_type": "execute_result"
    }
   ],
   "source": [
    "pca=PCA()\n",
    "pca.fit_transform(X_scaled)"
   ]
  },
  {
   "cell_type": "code",
   "execution_count": 223,
   "metadata": {
    "scrolled": true
   },
   "outputs": [
    {
     "data": {
      "image/png": "[encoded data removed]",
      "text/plain": [
       "<Figure size 432x288 with 1 Axes>"
      ]
     },
     "metadata": {
      "needs_background": "light"
     },
     "output_type": "display_data"
    }
   ],
   "source": [
    "plt.figure()\n",
    "plt.plot(np.cumsum(pca.explained_variance_ratio_))\n",
    "plt.xlabel('Number of Components')\n",
    "plt.ylabel('Variance (%)') # for each component\n",
    "plt.title('Explained Variance')\n",
    "plt.show()"
   ]
  },
  {
   "cell_type": "markdown",
   "metadata": {},
   "source": [
    "we can see that 90% of the variance is being explained by 8 components"
   ]
  },
  {
   "cell_type": "code",
   "execution_count": 225,
   "metadata": {
    "scrolled": true
   },
   "outputs": [],
   "source": [
    "pca=PCA(n_components=8)\n",
    "new_data=pca.fit_transform(X_scaled)\n",
    "\n",
    "principal_x=pd.DataFrame(new_data,columns=['PC-1','PC-2','PC-3','PC-4','PC-5','PC-6','PC-7','PC-8'])"
   ]
  },
  {
   "cell_type": "code",
   "execution_count": 226,
   "metadata": {
    "scrolled": true
   },
   "outputs": [
    {
     "data": {
      "text/html": [
       "<div>\n",
       "<style scoped>\n",
       "    .dataframe tbody tr th:only-of-type {\n",
       "        vertical-align: middle;\n",
       "    }\n",
       "\n",
       "    .dataframe tbody tr th {\n",
       "        vertical-align: top;\n",
       "    }\n",
       "\n",
       "    .dataframe thead th {\n",
       "        text-align: right;\n",
       "    }\n",
       "</style>\n",
       "<table border=\"1\" class=\"dataframe\">\n",
       "  <thead>\n",
       "    <tr style=\"text-align: right;\">\n",
       "      <th></th>\n",
       "      <th>PC-1</th>\n",
       "      <th>PC-2</th>\n",
       "      <th>PC-3</th>\n",
       "      <th>PC-4</th>\n",
       "      <th>PC-5</th>\n",
       "      <th>PC-6</th>\n",
       "      <th>PC-7</th>\n",
       "      <th>PC-8</th>\n",
       "    </tr>\n",
       "  </thead>\n",
       "  <tbody>\n",
       "    <tr>\n",
       "      <th>0</th>\n",
       "      <td>-0.899916</td>\n",
       "      <td>-1.066827</td>\n",
       "      <td>0.319022</td>\n",
       "      <td>0.990644</td>\n",
       "      <td>-1.449240</td>\n",
       "      <td>0.482156</td>\n",
       "      <td>0.857594</td>\n",
       "      <td>1.634046</td>\n",
       "    </tr>\n",
       "    <tr>\n",
       "      <th>1</th>\n",
       "      <td>-1.059092</td>\n",
       "      <td>-0.201487</td>\n",
       "      <td>-0.110951</td>\n",
       "      <td>0.057948</td>\n",
       "      <td>1.119888</td>\n",
       "      <td>0.114140</td>\n",
       "      <td>0.437155</td>\n",
       "      <td>-0.397505</td>\n",
       "    </tr>\n",
       "    <tr>\n",
       "      <th>2</th>\n",
       "      <td>-0.781300</td>\n",
       "      <td>1.335776</td>\n",
       "      <td>-0.076962</td>\n",
       "      <td>1.019525</td>\n",
       "      <td>0.330425</td>\n",
       "      <td>-0.900602</td>\n",
       "      <td>0.067211</td>\n",
       "      <td>0.218233</td>\n",
       "    </tr>\n",
       "    <tr>\n",
       "      <th>3</th>\n",
       "      <td>2.506563</td>\n",
       "      <td>5.122116</td>\n",
       "      <td>1.505170</td>\n",
       "      <td>-0.173706</td>\n",
       "      <td>0.250916</td>\n",
       "      <td>2.185733</td>\n",
       "      <td>1.112845</td>\n",
       "      <td>-0.833503</td>\n",
       "    </tr>\n",
       "    <tr>\n",
       "      <th>4</th>\n",
       "      <td>1.898481</td>\n",
       "      <td>-0.350572</td>\n",
       "      <td>0.151388</td>\n",
       "      <td>-0.475206</td>\n",
       "      <td>0.799270</td>\n",
       "      <td>0.742890</td>\n",
       "      <td>1.301068</td>\n",
       "      <td>-1.182482</td>\n",
       "    </tr>\n",
       "    <tr>\n",
       "      <th>...</th>\n",
       "      <td>...</td>\n",
       "      <td>...</td>\n",
       "      <td>...</td>\n",
       "      <td>...</td>\n",
       "      <td>...</td>\n",
       "      <td>...</td>\n",
       "      <td>...</td>\n",
       "      <td>...</td>\n",
       "    </tr>\n",
       "    <tr>\n",
       "      <th>31252</th>\n",
       "      <td>1.753049</td>\n",
       "      <td>-0.457241</td>\n",
       "      <td>1.257287</td>\n",
       "      <td>-2.258222</td>\n",
       "      <td>-0.106666</td>\n",
       "      <td>1.578758</td>\n",
       "      <td>1.017006</td>\n",
       "      <td>-0.991133</td>\n",
       "    </tr>\n",
       "    <tr>\n",
       "      <th>31253</th>\n",
       "      <td>-1.121138</td>\n",
       "      <td>-0.348183</td>\n",
       "      <td>-0.107411</td>\n",
       "      <td>0.004354</td>\n",
       "      <td>0.244676</td>\n",
       "      <td>-0.237493</td>\n",
       "      <td>-0.149657</td>\n",
       "      <td>0.393601</td>\n",
       "    </tr>\n",
       "    <tr>\n",
       "      <th>31254</th>\n",
       "      <td>2.265957</td>\n",
       "      <td>-0.985809</td>\n",
       "      <td>0.398593</td>\n",
       "      <td>0.590495</td>\n",
       "      <td>0.298272</td>\n",
       "      <td>0.341439</td>\n",
       "      <td>0.189715</td>\n",
       "      <td>2.364195</td>\n",
       "    </tr>\n",
       "    <tr>\n",
       "      <th>31255</th>\n",
       "      <td>1.449761</td>\n",
       "      <td>-0.513689</td>\n",
       "      <td>-1.235971</td>\n",
       "      <td>0.066275</td>\n",
       "      <td>1.051866</td>\n",
       "      <td>0.208333</td>\n",
       "      <td>-0.318154</td>\n",
       "      <td>1.463725</td>\n",
       "    </tr>\n",
       "    <tr>\n",
       "      <th>31256</th>\n",
       "      <td>1.411630</td>\n",
       "      <td>-0.490132</td>\n",
       "      <td>0.555974</td>\n",
       "      <td>0.017643</td>\n",
       "      <td>0.341446</td>\n",
       "      <td>1.355623</td>\n",
       "      <td>2.018028</td>\n",
       "      <td>-0.748604</td>\n",
       "    </tr>\n",
       "  </tbody>\n",
       "</table>\n",
       "<p>31257 rows × 8 columns</p>\n",
       "</div>"
      ],
      "text/plain": [
       "           PC-1      PC-2      PC-3      PC-4      PC-5      PC-6      PC-7  \\\n",
       "0     -0.899916 -1.066827  0.319022  0.990644 -1.449240  0.482156  0.857594   \n",
       "1     -1.059092 -0.201487 -0.110951  0.057948  1.119888  0.114140  0.437155   \n",
       "2     -0.781300  1.335776 -0.076962  1.019525  0.330425 -0.900602  0.067211   \n",
       "3      2.506563  5.122116  1.505170 -0.173706  0.250916  2.185733  1.112845   \n",
       "4      1.898481 -0.350572  0.151388 -0.475206  0.799270  0.742890  1.301068   \n",
       "...         ...       ...       ...       ...       ...       ...       ...   \n",
       "31252  1.753049 -0.457241  1.257287 -2.258222 -0.106666  1.578758  1.017006   \n",
       "31253 -1.121138 -0.348183 -0.107411  0.004354  0.244676 -0.237493 -0.149657   \n",
       "31254  2.265957 -0.985809  0.398593  0.590495  0.298272  0.341439  0.189715   \n",
       "31255  1.449761 -0.513689 -1.235971  0.066275  1.051866  0.208333 -0.318154   \n",
       "31256  1.411630 -0.490132  0.555974  0.017643  0.341446  1.355623  2.018028   \n",
       "\n",
       "           PC-8  \n",
       "0      1.634046  \n",
       "1     -0.397505  \n",
       "2      0.218233  \n",
       "3     -0.833503  \n",
       "4     -1.182482  \n",
       "...         ...  \n",
       "31252 -0.991133  \n",
       "31253  0.393601  \n",
       "31254  2.364195  \n",
       "31255  1.463725  \n",
       "31256 -0.748604  \n",
       "\n",
       "[31257 rows x 8 columns]"
      ]
     },
     "execution_count": 226,
     "metadata": {},
     "output_type": "execute_result"
    }
   ],
   "source": [
    "principal_x"
   ]
  },
  {
   "cell_type": "markdown",
   "metadata": {},
   "source": [
    "#### Lets plot ROC AUC Curve to choose the best model"
   ]
  },
  {
   "cell_type": "code",
   "execution_count": 227,
   "metadata": {
    "scrolled": true
   },
   "outputs": [],
   "source": [
    "# Plot ROC/AUC for multiple models without hyperparams tuning\n",
    "\n",
    "lr = LogisticRegression()\n",
    "dt = DecisionTreeClassifier()\n",
    "rf = RandomForestClassifier()\n",
    "kn = KNeighborsClassifier()\n",
    "gbdt = GradientBoostingClassifier()\n",
    "sgd= SGDClassifier()"
   ]
  },
  {
   "cell_type": "code",
   "execution_count": 228,
   "metadata": {
    "scrolled": true
   },
   "outputs": [
    {
     "name": "stdout",
     "output_type": "stream",
     "text": [
      "All models are trained\n"
     ]
    }
   ],
   "source": [
    "# training with all classifier\n",
    "lr.fit(x_train,y_train)\n",
    "rf.fit(x_train,y_train)\n",
    "dt.fit(x_train,y_train)\n",
    "kn.fit(x_train,y_train)\n",
    "gbdt.fit(x_train,y_train)\n",
    "sgd.fit(x_train,y_train)\n",
    "\n",
    "print('All models are trained')"
   ]
  },
  {
   "cell_type": "markdown",
   "metadata": {},
   "source": [
    "All models are trained"
   ]
  },
  {
   "cell_type": "code",
   "execution_count": 229,
   "metadata": {
    "scrolled": true
   },
   "outputs": [
    {
     "name": "stdout",
     "output_type": "stream",
     "text": [
      "All models test score captured\n"
     ]
    }
   ],
   "source": [
    "# All models score captured\n",
    "lr.fit(x_test,y_test)\n",
    "rf.fit(x_test,y_test)\n",
    "dt.fit(x_test,y_test)\n",
    "kn.fit(x_test,y_test)\n",
    "gbdt.fit(x_test,y_test)\n",
    "sgd.fit(x_test,y_test)\n",
    "\n",
    "print('All models test score captured')"
   ]
  },
  {
   "cell_type": "markdown",
   "metadata": {},
   "source": [
    "#### Lets find ROC AUC score"
   ]
  },
  {
   "cell_type": "code",
   "execution_count": 230,
   "metadata": {
    "scrolled": true
   },
   "outputs": [
    {
     "data": {
      "text/plain": [
       "0.5968493605345843"
      ]
     },
     "execution_count": 230,
     "metadata": {},
     "output_type": "execute_result"
    }
   ],
   "source": [
    "# LogisticRegression\n",
    "roc_auc_score(y_test,lr.predict(x_test))"
   ]
  },
  {
   "cell_type": "code",
   "execution_count": 231,
   "metadata": {
    "scrolled": true
   },
   "outputs": [
    {
     "data": {
      "text/plain": [
       "1.0"
      ]
     },
     "execution_count": 231,
     "metadata": {},
     "output_type": "execute_result"
    }
   ],
   "source": [
    "# DecisionTreeClassifier\n",
    "roc_auc_score(y_test,dt.predict(x_test))"
   ]
  },
  {
   "cell_type": "code",
   "execution_count": 232,
   "metadata": {
    "scrolled": true
   },
   "outputs": [
    {
     "data": {
      "text/plain": [
       "0.9994778067885117"
      ]
     },
     "execution_count": 232,
     "metadata": {},
     "output_type": "execute_result"
    }
   ],
   "source": [
    "# RandomForestClassifier\n",
    "roc_auc_score(y_test,rf.predict(x_test))"
   ]
  },
  {
   "cell_type": "code",
   "execution_count": 233,
   "metadata": {
    "scrolled": true
   },
   "outputs": [
    {
     "data": {
      "text/plain": [
       "0.7912424215603842"
      ]
     },
     "execution_count": 233,
     "metadata": {},
     "output_type": "execute_result"
    }
   ],
   "source": [
    "# KneighborsClassifier\n",
    "roc_auc_score(y_test,kn.predict(x_test))"
   ]
  },
  {
   "cell_type": "code",
   "execution_count": 234,
   "metadata": {
    "scrolled": true
   },
   "outputs": [
    {
     "data": {
      "text/plain": [
       "0.7681424525379476"
      ]
     },
     "execution_count": 234,
     "metadata": {},
     "output_type": "execute_result"
    }
   ],
   "source": [
    "# GradientBoostingClassifier\n",
    "roc_auc_score(y_test,gbdt.predict(x_test))"
   ]
  },
  {
   "cell_type": "markdown",
   "metadata": {},
   "source": [
    "#### Lets check ROC AUC curve for the fitted model"
   ]
  },
  {
   "cell_type": "code",
   "execution_count": 235,
   "metadata": {
    "scrolled": true
   },
   "outputs": [
    {
     "data": {
      "image/png": "[encoded data removed]",
      "text/plain": [
       "<Figure size 432x288 with 1 Axes>"
      ]
     },
     "metadata": {
      "needs_background": "light"
     },
     "output_type": "display_data"
    }
   ],
   "source": [
    "disp = plot_roc_curve(dt,x_test,y_test)\n",
    "plot_roc_curve(lr,x_test,y_test,ax=disp.ax_)\n",
    "plot_roc_curve(rf,x_test,y_test,ax=disp.ax_)\n",
    "plot_roc_curve(kn,x_test,y_test,ax=disp.ax_)\n",
    "plot_roc_curve(gbdt,x_test,y_test,ax=disp.ax_)\n",
    "plot_roc_curve(sgd,x_test,y_test,ax=disp.ax_)\n",
    "plt.legend(prop={'size':11}, loc='lower right')\n",
    "plt.show()\n"
   ]
  },
  {
   "cell_type": "markdown",
   "metadata": {},
   "source": [
    "#### Model Saving"
   ]
  },
  {
   "cell_type": "code",
   "execution_count": 236,
   "metadata": {
    "scrolled": true
   },
   "outputs": [],
   "source": [
    "# saving the model to local system\n",
    "filename = 'Census Income.pickle'\n",
    "pickle.dump(rand_clf,open(filename,'wb'))"
   ]
  },
  {
   "cell_type": "code",
   "execution_count": null,
   "metadata": {},
   "outputs": [],
   "source": []
  },
  {
   "cell_type": "code",
   "execution_count": null,
   "metadata": {},
   "outputs": [],
   "source": []
  },
  {
   "cell_type": "code",
   "execution_count": null,
   "metadata": {},
   "outputs": [],
   "source": []
  },
  {
   "cell_type": "code",
   "execution_count": null,
   "metadata": {},
   "outputs": [],
   "source": []
  },
  {
   "cell_type": "code",
   "execution_count": null,
   "metadata": {},
   "outputs": [],
   "source": []
  }
 ],
 "metadata": {
  "kernelspec": {
   "display_name": "Python 3",
   "language": "python",
   "name": "python3"
  },
  "language_info": {
   "codemirror_mode": {
    "name": "ipython",
    "version": 3
   },
   "file_extension": ".py",
   "mimetype": "text/x-python",
   "name": "python",
   "nbconvert_exporter": "python",
   "pygments_lexer": "ipython3",
   "version": "3.8.5"
  }
 },
 "nbformat": 4,
 "nbformat_minor": 4
}
